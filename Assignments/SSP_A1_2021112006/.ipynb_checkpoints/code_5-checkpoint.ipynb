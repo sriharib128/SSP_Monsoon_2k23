{
 "cells": [
  {
   "cell_type": "code",
   "execution_count": 1,
   "id": "72f0894f",
   "metadata": {},
   "outputs": [],
   "source": [
    "import librosa\n",
    "import librosa.display\n",
    "import matplotlib.pyplot as plt\n",
    "import numpy as np"
   ]
  },
  {
   "cell_type": "code",
   "execution_count": 4,
   "id": "1d9567d5",
   "metadata": {},
   "outputs": [
    {
     "name": "stdout",
     "output_type": "stream",
     "text": [
      "sampling rate = 22050 and no of sample = 259840\n",
      "duration = 11.784126984126985\n",
      "frames in 20ms = 441.0\n"
     ]
    }
   ],
   "source": [
    "audio_file = \"q5_audio.wav\"\n",
    "y, sr = librosa.load(audio_file)\n",
    "print(f\"sampling rate = {sr} and no of sample = {len(y)}\")\n",
    "print(f\"duration = {len(y)/sr}\")\n",
    "print(f\"frames in 20ms = {20*sr/1000}\")"
   ]
  },
  {
   "cell_type": "code",
   "execution_count": null,
   "id": "a2e7b0e4",
   "metadata": {},
   "outputs": [],
   "source": [
    "# Define parameters for analysis\n",
    "frame_length = 512  # Length of each analysis frame in samples\n",
    "hop_length = 256    # Hop length between consecutive frames in samples\n"
   ]
  },
  {
   "cell_type": "code",
   "execution_count": null,
   "id": "46f4b7e8",
   "metadata": {},
   "outputs": [],
   "source": [
    "# Calculate short-time energy\n",
    "energy = librosa.feature.rms(y=y, frame_length=frame_length, hop_length=hop_length)[0]\n",
    "\n",
    "# Calculate short-time zero-crossing rate\n",
    "zero_crossings = librosa.feature.zero_crossing_rate(y=y, frame_length=frame_length, hop_length=hop_length)[0]\n"
   ]
  },
  {
   "cell_type": "code",
   "execution_count": null,
   "id": "700adc2a",
   "metadata": {},
   "outputs": [],
   "source": [
    "\n",
    "# Create time axis\n",
    "frames = range(len(energy))\n",
    "t = librosa.frames_to_time(frames, sr=sr, hop_length=hop_length)\n"
   ]
  },
  {
   "cell_type": "code",
   "execution_count": null,
   "id": "05b1b7b8",
   "metadata": {},
   "outputs": [],
   "source": [
    "# Plot short-time energy\n",
    "plt.figure(figsize=(10, 6))\n",
    "plt.subplot(2, 1, 1)\n",
    "plt.plot(t, energy, label='Energy')\n",
    "plt.xlabel('Time (s)')\n",
    "plt.ylabel('Energy')\n",
    "plt.title('Short-Time Energy')\n",
    "plt.legend()\n",
    "\n",
    "# Plot short-time zero-crossing rate\n",
    "plt.subplot(2, 1, 2)\n",
    "plt.plot(t, zero_crossings, label='Zero-Crossing Rate', color='r')\n",
    "plt.xlabel('Time (s)')\n",
    "plt.ylabel('Zero-Crossing Rate')\n",
    "plt.title('Short-Time Zero-Crossing Rate')\n",
    "plt.legend()\n",
    "\n",
    "plt.tight_layout()\n",
    "plt.show()\n",
    "In this code, the frame_length represents the length of each analysis frame in samples, and the hop_length represents the number of samples between the start of each consecutive frame. These parameters control the window size and window shift for the analysis. A smaller frame_length will provide higher time resolution, but less frequency resolution, and vice versa. The hop_length determines the overlap between consecutive frames, allowing for smoother analysis.\n",
    "\n",
    "In the example above, I've used the values 1024 for frame_length and 512 for hop_length, but you can adjust these values based on the characteristics of your audio and the trade-off between time and frequency resolution that you desire.\n",
    "\n",
    "\n",
    "\n",
    "\n",
    "\n"
   ]
  },
  {
   "cell_type": "code",
   "execution_count": null,
   "id": "83ff2fc2",
   "metadata": {},
   "outputs": [],
   "source": []
  }
 ],
 "metadata": {
  "kernelspec": {
   "display_name": "Python 3 (ipykernel)",
   "language": "python",
   "name": "python3"
  },
  "language_info": {
   "codemirror_mode": {
    "name": "ipython",
    "version": 3
   },
   "file_extension": ".py",
   "mimetype": "text/x-python",
   "name": "python",
   "nbconvert_exporter": "python",
   "pygments_lexer": "ipython3",
   "version": "3.11.4"
  }
 },
 "nbformat": 4,
 "nbformat_minor": 5
}
