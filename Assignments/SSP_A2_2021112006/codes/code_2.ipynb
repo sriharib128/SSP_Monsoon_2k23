{
 "cells": [
  {
   "cell_type": "code",
   "execution_count": 7,
   "metadata": {},
   "outputs": [],
   "source": [
    "import librosa\n",
    "import matplotlib.pyplot as plt\n",
    "import numpy as np\n",
    "import scipy"
   ]
  },
  {
   "cell_type": "code",
   "execution_count": 8,
   "metadata": {},
   "outputs": [
    {
     "name": "stdout",
     "output_type": "stream",
     "text": [
      "[2.0440150334284857, 200.0, 0.05]\n"
     ]
    }
   ],
   "source": [
    "loaded_array = np.load('thresholds.npy')\n",
    "thresholds = loaded_array.tolist()\n",
    "print(thresholds)\n",
    "# got the thresholds by visualising the waveform in \"threshold.ipynb\""
   ]
  },
  {
   "cell_type": "markdown",
   "metadata": {},
   "source": [
    "### Three Methods for voiced Unvoiced Detection are:-\n",
    " - Energy Threshold\n",
    " - Auto-correlation\n",
    " - Normalized Linear Prediction error Analysis"
   ]
  },
  {
   "cell_type": "code",
   "execution_count": 9,
   "metadata": {},
   "outputs": [],
   "source": [
    "\n",
    "def energy(signal):\n",
    "    energy = np.sum(signal ** 2)\n",
    "    return energy\n",
    "\n",
    "def autocorrelation(signal):\n",
    "    autocorr = np.correlate(signal, signal, mode='full')\n",
    "    return np.sum(autocorr**2)\n",
    "\n",
    "def norm_LP_error(signal, o):\n",
    "    a = librosa.lpc(signal, order=o)\n",
    "    b = np.hstack([[0], -1 * a[1:]])\n",
    "    y_hat = scipy.signal.lfilter(b, [1], signal)\n",
    "    prediction_error = np.var(y_hat - signal)\n",
    "    signal_power = np.var(signal)\n",
    "    normalized_error = prediction_error / signal_power\n",
    "    return normalized_error\n",
    "\n",
    "def check_energy(signal):\n",
    "    if(energy(signal)>thresholds[0]):\n",
    "        return True\n",
    "    else:\n",
    "        return False\n",
    "def check_autocor(signal):\n",
    "    if(autocorrelation(signal)>thresholds[1]):\n",
    "        return True\n",
    "    else:\n",
    "        return False\n",
    "def check_error(signal,o):\n",
    "    if(norm_LP_error(signal, o)<thresholds[0]):\n",
    "        return True\n",
    "    else:\n",
    "        return False\n"
   ]
  }
 ],
 "metadata": {
  "kernelspec": {
   "display_name": "base",
   "language": "python",
   "name": "python3"
  },
  "language_info": {
   "codemirror_mode": {
    "name": "ipython",
    "version": 3
   },
   "file_extension": ".py",
   "mimetype": "text/x-python",
   "name": "python",
   "nbconvert_exporter": "python",
   "pygments_lexer": "ipython3",
   "version": "3.11.4"
  },
  "orig_nbformat": 4
 },
 "nbformat": 4,
 "nbformat_minor": 2
}
