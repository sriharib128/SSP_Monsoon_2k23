{
 "cells": [
  {
   "cell_type": "code",
   "execution_count": 17,
   "id": "5d9a3841",
   "metadata": {},
   "outputs": [],
   "source": [
    "import pandas as pd\n",
    "import numpy as np\n",
    "import matplotlib.pyplot as plt\n",
    "import time\n",
    "from sklearn.model_selection import train_test_split\n",
    "from sklearn.metrics import accuracy_score, classification_report, confusion_matrix\n",
    "from sklearn.ensemble import RandomForestClassifier\n",
    "import xgboost as xgb\n",
    "import pickle\n",
    "# from sklearn.utils import class_weight\n",
    "from sklearn.utils.class_weight import compute_class_weight"
   ]
  },
  {
   "cell_type": "code",
   "execution_count": 2,
   "id": "5bd051a7",
   "metadata": {},
   "outputs": [],
   "source": [
    "dataset = pd.read_csv('dataset.csv')\n",
    "\n",
    "with open('my_list.pkl', 'rb') as f:\n",
    "    len_list = pickle.load(f)"
   ]
  },
  {
   "cell_type": "code",
   "execution_count": 3,
   "id": "a8824db9",
   "metadata": {},
   "outputs": [
    {
     "data": {
      "text/plain": [
       "array([' ', '!', ',', '.'], dtype=object)"
      ]
     },
     "execution_count": 3,
     "metadata": {},
     "output_type": "execute_result"
    }
   ],
   "source": [
    "np.unique(dataset[\"punc\"])"
   ]
  },
  {
   "cell_type": "code",
   "execution_count": 4,
   "id": "216c1c37",
   "metadata": {},
   "outputs": [
    {
     "data": {
      "image/png": "[encoded data removed]",
      "text/plain": [
       "<Figure size 640x480 with 1 Axes>"
      ]
     },
     "metadata": {},
     "output_type": "display_data"
    }
   ],
   "source": [
    "import matplotlib.pyplot as plt\n",
    "\n",
    "column_name = \"punc\"\n",
    "value_counts = dataset[column_name].value_counts()\n",
    "\n",
    "plt.bar(value_counts.index, value_counts)\n",
    "plt.xlabel(column_name)\n",
    "plt.ylabel(\"Count\")\n",
    "plt.title(f\"Histogram of {column_name}\")\n",
    "\n",
    "for i, value in enumerate(value_counts):\n",
    "    plt.text(i, value, str(value), ha='center', va='bottom')\n",
    "\n",
    "plt.show()"
   ]
  },
  {
   "cell_type": "code",
   "execution_count": 5,
   "id": "f7d0bc19",
   "metadata": {},
   "outputs": [],
   "source": [
    "dataset.loc[dataset[\"punc\"] == \"!\", \"punc\"] = 1\n",
    "dataset.loc[dataset[\"punc\"] == \".\", \"punc\"] = 1\n",
    "dataset.loc[dataset[\"punc\"] == \",\", \"punc\"] = 1\n",
    "dataset.loc[dataset[\"punc\"] == \";\", \"punc\"] = 1\n",
    "dataset.loc[dataset[\"punc\"] == \" \", \"punc\"] = 0"
   ]
  },
  {
   "cell_type": "code",
   "execution_count": 7,
   "id": "85e3399f",
   "metadata": {},
   "outputs": [
    {
     "data": {
      "text/html": [
       "<div>\n",
       "<style scoped>\n",
       "    .dataframe tbody tr th:only-of-type {\n",
       "        vertical-align: middle;\n",
       "    }\n",
       "\n",
       "    .dataframe tbody tr th {\n",
       "        vertical-align: top;\n",
       "    }\n",
       "\n",
       "    .dataframe thead th {\n",
       "        text-align: right;\n",
       "    }\n",
       "</style>\n",
       "<table border=\"1\" class=\"dataframe\">\n",
       "  <thead>\n",
       "    <tr style=\"text-align: right;\">\n",
       "      <th></th>\n",
       "      <th>Time Stamps (s)</th>\n",
       "      <th>Values</th>\n",
       "      <th>Labels</th>\n",
       "      <th>punc</th>\n",
       "      <th>dx_next</th>\n",
       "      <th>dx_prev</th>\n",
       "      <th>dy_next</th>\n",
       "      <th>dy_prev</th>\n",
       "      <th>delta_next</th>\n",
       "      <th>delta_prev</th>\n",
       "    </tr>\n",
       "  </thead>\n",
       "  <tbody>\n",
       "    <tr>\n",
       "      <th>0</th>\n",
       "      <td>0.535</td>\n",
       "      <td>0.0</td>\n",
       "      <td>M</td>\n",
       "      <td>0</td>\n",
       "      <td>0.160</td>\n",
       "      <td>1.000</td>\n",
       "      <td>0.0</td>\n",
       "      <td>0.0</td>\n",
       "      <td>0.0</td>\n",
       "      <td>0.0</td>\n",
       "    </tr>\n",
       "    <tr>\n",
       "      <th>1</th>\n",
       "      <td>0.695</td>\n",
       "      <td>0.0</td>\n",
       "      <td>M</td>\n",
       "      <td>0</td>\n",
       "      <td>0.200</td>\n",
       "      <td>0.160</td>\n",
       "      <td>-1.0</td>\n",
       "      <td>0.0</td>\n",
       "      <td>-5.0</td>\n",
       "      <td>0.0</td>\n",
       "    </tr>\n",
       "    <tr>\n",
       "      <th>2</th>\n",
       "      <td>0.895</td>\n",
       "      <td>-1.0</td>\n",
       "      <td>L</td>\n",
       "      <td>0</td>\n",
       "      <td>0.130</td>\n",
       "      <td>0.200</td>\n",
       "      <td>0.0</td>\n",
       "      <td>-1.0</td>\n",
       "      <td>0.0</td>\n",
       "      <td>-5.0</td>\n",
       "    </tr>\n",
       "    <tr>\n",
       "      <th>3</th>\n",
       "      <td>1.025</td>\n",
       "      <td>-1.0</td>\n",
       "      <td>L</td>\n",
       "      <td>0</td>\n",
       "      <td>0.230</td>\n",
       "      <td>0.130</td>\n",
       "      <td>0.0</td>\n",
       "      <td>0.0</td>\n",
       "      <td>0.0</td>\n",
       "      <td>0.0</td>\n",
       "    </tr>\n",
       "    <tr>\n",
       "      <th>4</th>\n",
       "      <td>1.255</td>\n",
       "      <td>-1.0</td>\n",
       "      <td>L</td>\n",
       "      <td>0</td>\n",
       "      <td>0.120</td>\n",
       "      <td>0.230</td>\n",
       "      <td>1.5</td>\n",
       "      <td>0.0</td>\n",
       "      <td>12.5</td>\n",
       "      <td>0.0</td>\n",
       "    </tr>\n",
       "    <tr>\n",
       "      <th>...</th>\n",
       "      <td>...</td>\n",
       "      <td>...</td>\n",
       "      <td>...</td>\n",
       "      <td>...</td>\n",
       "      <td>...</td>\n",
       "      <td>...</td>\n",
       "      <td>...</td>\n",
       "      <td>...</td>\n",
       "      <td>...</td>\n",
       "      <td>...</td>\n",
       "    </tr>\n",
       "    <tr>\n",
       "      <th>1450</th>\n",
       "      <td>24.596</td>\n",
       "      <td>-1.0</td>\n",
       "      <td>L</td>\n",
       "      <td>0</td>\n",
       "      <td>0.065</td>\n",
       "      <td>0.155</td>\n",
       "      <td>0.0</td>\n",
       "      <td>0.0</td>\n",
       "      <td>0.0</td>\n",
       "      <td>0.0</td>\n",
       "    </tr>\n",
       "    <tr>\n",
       "      <th>1451</th>\n",
       "      <td>24.661</td>\n",
       "      <td>-1.0</td>\n",
       "      <td>L</td>\n",
       "      <td>0</td>\n",
       "      <td>0.205</td>\n",
       "      <td>0.065</td>\n",
       "      <td>0.0</td>\n",
       "      <td>0.0</td>\n",
       "      <td>0.0</td>\n",
       "      <td>0.0</td>\n",
       "    </tr>\n",
       "    <tr>\n",
       "      <th>1452</th>\n",
       "      <td>24.866</td>\n",
       "      <td>-1.0</td>\n",
       "      <td>L</td>\n",
       "      <td>0</td>\n",
       "      <td>0.060</td>\n",
       "      <td>0.205</td>\n",
       "      <td>0.0</td>\n",
       "      <td>0.0</td>\n",
       "      <td>0.0</td>\n",
       "      <td>0.0</td>\n",
       "    </tr>\n",
       "    <tr>\n",
       "      <th>1453</th>\n",
       "      <td>24.926</td>\n",
       "      <td>-1.0</td>\n",
       "      <td>L</td>\n",
       "      <td>0</td>\n",
       "      <td>0.125</td>\n",
       "      <td>0.060</td>\n",
       "      <td>0.0</td>\n",
       "      <td>0.0</td>\n",
       "      <td>0.0</td>\n",
       "      <td>0.0</td>\n",
       "    </tr>\n",
       "    <tr>\n",
       "      <th>1454</th>\n",
       "      <td>25.051</td>\n",
       "      <td>-1.0</td>\n",
       "      <td>L</td>\n",
       "      <td>1</td>\n",
       "      <td>1.000</td>\n",
       "      <td>0.125</td>\n",
       "      <td>0.0</td>\n",
       "      <td>0.0</td>\n",
       "      <td>0.0</td>\n",
       "      <td>0.0</td>\n",
       "    </tr>\n",
       "  </tbody>\n",
       "</table>\n",
       "<p>1455 rows × 10 columns</p>\n",
       "</div>"
      ],
      "text/plain": [
       "      Time Stamps (s)  Values Labels punc  dx_next  dx_prev  dy_next  dy_prev  \\\n",
       "0               0.535     0.0      M    0    0.160    1.000      0.0      0.0   \n",
       "1               0.695     0.0      M    0    0.200    0.160     -1.0      0.0   \n",
       "2               0.895    -1.0      L    0    0.130    0.200      0.0     -1.0   \n",
       "3               1.025    -1.0      L    0    0.230    0.130      0.0      0.0   \n",
       "4               1.255    -1.0      L    0    0.120    0.230      1.5      0.0   \n",
       "...               ...     ...    ...  ...      ...      ...      ...      ...   \n",
       "1450           24.596    -1.0      L    0    0.065    0.155      0.0      0.0   \n",
       "1451           24.661    -1.0      L    0    0.205    0.065      0.0      0.0   \n",
       "1452           24.866    -1.0      L    0    0.060    0.205      0.0      0.0   \n",
       "1453           24.926    -1.0      L    0    0.125    0.060      0.0      0.0   \n",
       "1454           25.051    -1.0      L    1    1.000    0.125      0.0      0.0   \n",
       "\n",
       "      delta_next  delta_prev  \n",
       "0            0.0         0.0  \n",
       "1           -5.0         0.0  \n",
       "2            0.0        -5.0  \n",
       "3            0.0         0.0  \n",
       "4           12.5         0.0  \n",
       "...          ...         ...  \n",
       "1450         0.0         0.0  \n",
       "1451         0.0         0.0  \n",
       "1452         0.0         0.0  \n",
       "1453         0.0         0.0  \n",
       "1454         0.0         0.0  \n",
       "\n",
       "[1455 rows x 10 columns]"
      ]
     },
     "execution_count": 7,
     "metadata": {},
     "output_type": "execute_result"
    }
   ],
   "source": [
    "dataset"
   ]
  },
  {
   "cell_type": "code",
   "execution_count": 10,
   "id": "c384ac63",
   "metadata": {},
   "outputs": [
    {
     "data": {
      "text/plain": [
       "(array([[ 0.   ,  0.16 ,  1.   , ...,  0.   ,  0.   ,  0.   ],\n",
       "        [ 0.   ,  0.2  ,  0.16 , ...,  0.   , -5.   ,  0.   ],\n",
       "        [-1.   ,  0.13 ,  0.2  , ..., -1.   ,  0.   , -5.   ],\n",
       "        ...,\n",
       "        [-1.   ,  0.06 ,  0.205, ...,  0.   ,  0.   ,  0.   ],\n",
       "        [-1.   ,  0.125,  0.06 , ...,  0.   ,  0.   ,  0.   ],\n",
       "        [-1.   ,  1.   ,  0.125, ...,  0.   ,  0.   ,  0.   ]]),\n",
       " array([0, 0, 0, ..., 0, 0, 1], dtype=object))"
      ]
     },
     "execution_count": 10,
     "metadata": {},
     "output_type": "execute_result"
    }
   ],
   "source": [
    "X = dataset.drop(columns=[\"Time Stamps (s)\", \"Labels\",\"punc\"]).values\n",
    "y = dataset[\"punc\"].values\n",
    "X,y"
   ]
  },
  {
   "cell_type": "code",
   "execution_count": 11,
   "id": "09db57ab",
   "metadata": {},
   "outputs": [],
   "source": [
    "X_train = X[:(-1)*len_list[-1],:]\n",
    "y_train = y[:(-1)*len_list[-1]]\n",
    "\n",
    "X_test = X[(-1)*len_list[-1]:,:]\n",
    "y_test = y[(-1)*len_list[-1]:]"
   ]
  },
  {
   "cell_type": "code",
   "execution_count": 21,
   "id": "7cf1fe42",
   "metadata": {},
   "outputs": [
    {
     "ename": "TypeError",
     "evalue": "compute_class_weight() missing 2 required keyword-only arguments: 'classes' and 'y'",
     "output_type": "error",
     "traceback": [
      "\u001b[0;31m---------------------------------------------------------------------------\u001b[0m",
      "\u001b[0;31mTypeError\u001b[0m                                 Traceback (most recent call last)",
      "Cell \u001b[0;32mIn[21], line 2\u001b[0m\n\u001b[1;32m      1\u001b[0m \u001b[38;5;66;03m# class_weights = class_weight.compute_class_weight('balanced', np.unique(y_train), y_train)\u001b[39;00m\n\u001b[0;32m----> 2\u001b[0m class_weights \u001b[38;5;241m=\u001b[39m compute_class_weight(\u001b[38;5;124m'\u001b[39m\u001b[38;5;124mbalanced\u001b[39m\u001b[38;5;124m'\u001b[39m)\n\u001b[1;32m      4\u001b[0m \u001b[38;5;66;03m# Initialize a Random Forest classifier with class weights\u001b[39;00m\n\u001b[1;32m      5\u001b[0m clf \u001b[38;5;241m=\u001b[39m RandomForestClassifier(class_weight\u001b[38;5;241m=\u001b[39m\u001b[38;5;28mdict\u001b[39m(\u001b[38;5;28mzip\u001b[39m(np\u001b[38;5;241m.\u001b[39munique(y_train), class_weights)))\n",
      "\u001b[0;31mTypeError\u001b[0m: compute_class_weight() missing 2 required keyword-only arguments: 'classes' and 'y'"
     ]
    }
   ],
   "source": [
    "# class_weights = class_weight.compute_class_weight('balanced', np.unique(y_train), y_train)\n",
    "class_weights = compute_class_weight()\n",
    "\n",
    "# Initialize a Random Forest classifier with class weights\n",
    "clf = RandomForestClassifier(class_weight=dict(zip(np.unique(y_train), class_weights)))\n",
    "\n",
    "# Train the model\n",
    "clf.fit(X_train, y_train)\n",
    "\n",
    "# Predict on the test set\n",
    "y_pred = clf.predict(X_test)\n",
    "\n",
    "# Evaluate the model\n",
    "print(\"Confusion Matrix:\\n\", confusion_matrix(y_test, y_pred))\n",
    "print(\"\\nClassification Report:\\n\", classification_report(y_test, y_pred))"
   ]
  },
  {
   "cell_type": "code",
   "execution_count": 12,
   "id": "415de70e",
   "metadata": {},
   "outputs": [
    {
     "ename": "NameError",
     "evalue": "name 'class_weight' is not defined",
     "output_type": "error",
     "traceback": [
      "\u001b[0;31m---------------------------------------------------------------------------\u001b[0m",
      "\u001b[0;31mNameError\u001b[0m                                 Traceback (most recent call last)",
      "Cell \u001b[0;32mIn[12], line 1\u001b[0m\n\u001b[0;32m----> 1\u001b[0m class_weights \u001b[38;5;241m=\u001b[39m class_weight\u001b[38;5;241m.\u001b[39mcompute_class_weight(\u001b[38;5;124m'\u001b[39m\u001b[38;5;124mbalanced\u001b[39m\u001b[38;5;124m'\u001b[39m, np\u001b[38;5;241m.\u001b[39munique(y_train), y_train)\n\u001b[1;32m      3\u001b[0m \u001b[38;5;66;03m# Initialize a Random Forest classifier with class weights\u001b[39;00m\n\u001b[1;32m      4\u001b[0m clf \u001b[38;5;241m=\u001b[39m RandomForestClassifier(class_weight\u001b[38;5;241m=\u001b[39m\u001b[38;5;28mdict\u001b[39m(\u001b[38;5;28mzip\u001b[39m(np\u001b[38;5;241m.\u001b[39munique(y_train), class_weights)))\n",
      "\u001b[0;31mNameError\u001b[0m: name 'class_weight' is not defined"
     ]
    }
   ],
   "source": [
    "# Get feature importances\n",
    "feature_importances = clf.feature_importances_\n",
    "\n",
    "# Display feature importances\n",
    "print(\"\\nFeature Importances:\")\n",
    "for feature, importance in zip(X.columns, feature_importances):\n",
    "    print(f\"{feature}: {importance}\")"
   ]
  },
  {
   "cell_type": "code",
   "execution_count": null,
   "id": "0dca617a",
   "metadata": {},
   "outputs": [],
   "source": [
    "class_weights = {0: 1, 1: 10}\n",
    "model = RandomForestClassifier(class_weight=\"balanced\")\n",
    "\n",
    "model.fit(X_train, y_train)\n",
    "\n",
    "y_pred = model.predict(X_test)\n"
   ]
  },
  {
   "cell_type": "code",
   "execution_count": null,
   "id": "29ae09d1",
   "metadata": {},
   "outputs": [],
   "source": [
    "data = {\n",
    "    \"Feature\": dataset.drop(columns=[\"Time Stamps (s)\", \"Labels\", \"punc\"]).columns,\n",
    "    \"Importance\": model.feature_importances_\n",
    "}\n",
    "\n",
    "feature_importance_df = pd.DataFrame(data)\n",
    "# Plot the feature importances\n",
    "plt.figure(figsize=(5, 3))\n",
    "plt.bar(feature_importance_df[\"Feature\"], feature_importance_df[\"Importance\"])\n",
    "plt.xlabel(\"Feature\")\n",
    "plt.ylabel(\"Importance\")\n",
    "plt.title(\"Feature Importances\")\n",
    "plt.xticks(rotation=45, ha=\"right\")  # Rotate x-axis labels for better visibility\n",
    "plt.show()"
   ]
  },
  {
   "cell_type": "code",
   "execution_count": null,
   "id": "63559505",
   "metadata": {},
   "outputs": [],
   "source": []
  }
 ],
 "metadata": {
  "kernelspec": {
   "display_name": "Python 3 (ipykernel)",
   "language": "python",
   "name": "python3"
  },
  "language_info": {
   "codemirror_mode": {
    "name": "ipython",
    "version": 3
   },
   "file_extension": ".py",
   "mimetype": "text/x-python",
   "name": "python",
   "nbconvert_exporter": "python",
   "pygments_lexer": "ipython3",
   "version": "3.11.5"
  }
 },
 "nbformat": 4,
 "nbformat_minor": 5
}
